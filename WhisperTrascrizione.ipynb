{
  "nbformat": 4,
  "nbformat_minor": 0,
  "metadata": {
    "colab": {
      "provenance": [],
      "authorship_tag": "ABX9TyM3L95eQTaKu1OaNQCUxdWW",
      "include_colab_link": true
    },
    "kernelspec": {
      "name": "python3",
      "display_name": "Python 3"
    },
    "language_info": {
      "name": "python"
    }
  },
  "cells": [
    {
      "cell_type": "markdown",
      "metadata": {
        "id": "view-in-github",
        "colab_type": "text"
      },
      "source": [
        "<a href=\"https://colab.research.google.com/github/cibas700/Whisper-Transcriber/blob/main/WhisperTrascrizione.ipynb\" target=\"_parent\"><img src=\"https://colab.research.google.com/assets/colab-badge.svg\" alt=\"Open In Colab\"/></a>"
      ]
    },
    {
      "cell_type": "markdown",
      "source": [
        "Per prima cosa, installa la libreria Whisper di OpenAI eseguendo il comando seguente:\n",
        "\n",
        "Attendere che il processo sia completato e che compaia una spunta verde accanto alla cella del comando, segno che l’installazione è andata a buon fine."
      ],
      "metadata": {
        "id": "3JhVs5LnDBgC"
      }
    },
    {
      "cell_type": "code",
      "execution_count": null,
      "metadata": {
        "id": "4SLdtO4ZC-A7"
      },
      "outputs": [],
      "source": [
        "!pip install git+https://github.com/openai/whisper.git"
      ]
    },
    {
      "cell_type": "markdown",
      "source": [
        "**Se vuoi convertire un video di YouTube in audio da trascrivere, esegui questo comando.**\n",
        "\n",
        "Sostituisci [INSERIRE_QUI_LINK_YOUTUBE] con il link del video che desideri convertire:"
      ],
      "metadata": {
        "id": "poHsFKS1DGLG"
      }
    },
    {
      "cell_type": "code",
      "source": [
        "!pip install yt-dlp\n",
        "!yt-dlp [INSIERIRE_QUI_LINK_YOUTUBE] --format m4a -o \"%(id)s.%(ext)s\""
      ],
      "metadata": {
        "id": "PeqwmNyzDLYl"
      },
      "execution_count": null,
      "outputs": []
    },
    {
      "cell_type": "markdown",
      "source": [
        "**Se vuoi trascrivere un file che hai in locale:**\n",
        "\n",
        "1.   Carica il video o l’audio in Google Colab cliccando sull’icona della cartella a sinistra.\n",
        "2.   Sposta o carica il file nella cartella principale (non dentro sample_data o altre sottocartelle).\n",
        "\n",
        "1.   Copia il nome del file (con estensione) e inseriscilo nel comando qui sotto, sostituendo [INSERIRE_QUI_IL_NOME_DEL_FILE_CON_ESTENSIONE].\n",
        "2.   Scegli il modello Whisper da utilizzare.\n",
        "\n"
      ],
      "metadata": {
        "id": "NkyYxW6xDNuf"
      }
    },
    {
      "cell_type": "markdown",
      "source": [
        "I modelli disponibili sono (dal più leggero al più preciso):\n",
        "\n",
        "*   tiny → più leggero, più veloce ma meno preciso\n",
        "*   base\n",
        "\n",
        "*   small\n",
        "*   medium\n",
        "\n",
        "*   turbo\n",
        "*   large\n",
        "\n",
        "*   large-v2\n",
        "*   large-v3 → più grande, più accurato (ma più lento)\n",
        "\n",
        "Maggiore è la dimensione del modello, più alta sarà la qualità della trascrizione (ma anche il tempo richiesto per completarla).\n",
        "\n",
        "\n",
        "\n",
        "**SUGGERIMENTO IMPORTANTE:**\n",
        "\n",
        "se conosci la lingua parlata nel video o nell’audio, specificala con il parametro --language.\n",
        "Questo migliora notevolmente la precisione della trascrizione.\n",
        "\n",
        "Esempio:\n",
        "\n",
        "\n",
        "```\n",
        "--language Italian\n",
        "```\n",
        "oppure\n",
        "\n",
        "\n",
        "```\n",
        "--language English\n",
        "```\n",
        "\n",
        "\n",
        "\n",
        "\n",
        "\n",
        "\n",
        "\n",
        "\n"
      ],
      "metadata": {
        "id": "s5fsV7oFDQ1f"
      }
    },
    {
      "cell_type": "code",
      "source": [
        "!whisper \"/content/[INSERIRE_QUI_IL_NOME_DEL_FILE_CON_ESTENSIONE]\" --model large --language Italian"
      ],
      "metadata": {
        "id": "irPtEFxRDV8F"
      },
      "execution_count": null,
      "outputs": []
    },
    {
      "cell_type": "markdown",
      "source": [
        "Il modello riconoscerà automaticamente il parlato e genererà il testo trascritto.\n",
        "\n",
        "Il risultato verrà salvato nella stessa cartella del file audio/video."
      ],
      "metadata": {
        "id": "Zt3mj2tVDWs-"
      }
    },
    {
      "cell_type": "markdown",
      "source": [
        "19 ottobre 2025\n",
        "\n",
        "By Tommaso Basili"
      ],
      "metadata": {
        "id": "bxoZX7TwDYyr"
      }
    }
  ]
}